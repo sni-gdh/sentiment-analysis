{
 "cells": [
  {
   "cell_type": "code",
   "execution_count": 7,
   "id": "b4a6733c",
   "metadata": {},
   "outputs": [],
   "source": [
    "import cv2\n",
    "import numpy as np"
   ]
  },
  {
   "cell_type": "code",
   "execution_count": 8,
   "id": "91b2b1a2",
   "metadata": {},
   "outputs": [],
   "source": [
    "#required packages imported\n",
    "import tensorflow as tf\n",
    "from tensorflow import keras\n",
    "from keras import Sequential\n",
    "from keras.layers import Dense,Conv2D,MaxPooling2D,Flatten,Dropout,BatchNormalization\n",
    "from keras .preprocessing.image import ImageDataGenerator"
   ]
  },
  {
   "cell_type": "code",
   "execution_count": 9,
   "id": "8669060c",
   "metadata": {},
   "outputs": [
    {
     "name": "stdout",
     "output_type": "stream",
     "text": [
      "Found 28709 images belonging to 7 classes.\n",
      "Found 7178 images belonging to 7 classes.\n"
     ]
    }
   ],
   "source": [
    "#generator(to make batches from dataset and create classes)\n",
    "train_datagen= ImageDataGenerator(rescale=1./255)\n",
    "test_datagen=ImageDataGenerator(rescale=1./255)\n",
    "\n",
    "train_generator =train_datagen.flow_from_directory(\n",
    "    r'C:\\Users\\snigdh chamoli\\OneDrive\\Desktop\\emotionde\\archive\\train',\n",
    "    target_size=(48,48),\n",
    "    batch_size=64,\n",
    "    color_mode='grayscale',\n",
    "    class_mode='categorical'\n",
    ")\n",
    "validation_generator=test_datagen.flow_from_directory(\n",
    "    r'C:\\Users\\snigdh chamoli\\OneDrive\\Desktop\\emotionde\\archive\\test',\n",
    "    target_size=(48,48),\n",
    "    batch_size=64,\n",
    "    color_mode='grayscale',\n",
    "    class_mode='categorical'\n",
    ")"
   ]
  },
  {
   "cell_type": "code",
   "execution_count": 13,
   "id": "5324e0e7",
   "metadata": {},
   "outputs": [],
   "source": [
    "#create cnn model\n",
    "model =Sequential()\n",
    "model.add(Conv2D(32,kernel_size=(3,3),padding='valid',activation='relu',input_shape=(48,48,1)))\n",
    "model.add(Conv2D(64,kernel_size=(3,3),padding='valid',activation='relu'))\n",
    "model.add(BatchNormalization())\n",
    "model.add(MaxPooling2D(pool_size=(2,2),padding='valid'))\n",
    "model.add(Dropout(0.25))\n",
    "\n",
    "\n",
    "model.add(Conv2D(128,kernel_size=(3,3),padding='valid',activation='relu'))\n",
    "model.add(BatchNormalization())\n",
    "model.add(MaxPooling2D(pool_size=(2,2),padding='valid'))\n",
    "\n",
    "model.add(Conv2D(128,kernel_size=(3,3),padding='valid',activation='relu'))\n",
    "model.add(BatchNormalization())\n",
    "model.add(MaxPooling2D(pool_size=(2,2),padding='valid'))\n",
    "model.add(Dropout(0.25))\n",
    "\n",
    "\n",
    "\n",
    "model.add(Flatten())\n",
    "\n",
    "model.add(Dense(1024,activation='relu'))\n",
    "model.add(Dropout(0.6))\n",
    "model.add(Dense(7,activation='softmax'))"
   ]
  },
  {
   "cell_type": "code",
   "execution_count": 14,
   "id": "e239a0fc",
   "metadata": {},
   "outputs": [],
   "source": [
    "model.compile(optimizer='adam',loss='categorical_crossentropy',metrics=['accuracy'])"
   ]
  },
  {
   "cell_type": "code",
   "execution_count": 15,
   "id": "e5ce2127",
   "metadata": {},
   "outputs": [
    {
     "name": "stderr",
     "output_type": "stream",
     "text": [
      "C:\\Users\\snigdh chamoli\\AppData\\Local\\Temp\\ipykernel_9420\\3276251418.py:1: UserWarning: `Model.fit_generator` is deprecated and will be removed in a future version. Please use `Model.fit`, which supports generators.\n",
      "  mapping=model.fit_generator(\n"
     ]
    },
    {
     "name": "stdout",
     "output_type": "stream",
     "text": [
      "Epoch 1/50\n",
      "448/448 [==============================] - 507s 1s/step - loss: 1.9610 - accuracy: 0.3157 - val_loss: 1.6827 - val_accuracy: 0.3640\n",
      "Epoch 2/50\n",
      "448/448 [==============================] - 137s 307ms/step - loss: 1.5232 - accuracy: 0.4088 - val_loss: 1.5099 - val_accuracy: 0.4136\n",
      "Epoch 3/50\n",
      "448/448 [==============================] - 140s 312ms/step - loss: 1.4157 - accuracy: 0.4508 - val_loss: 1.4302 - val_accuracy: 0.4435\n",
      "Epoch 4/50\n",
      "448/448 [==============================] - 141s 314ms/step - loss: 1.3362 - accuracy: 0.4856 - val_loss: 1.2735 - val_accuracy: 0.5138\n",
      "Epoch 5/50\n",
      "448/448 [==============================] - 140s 314ms/step - loss: 1.2906 - accuracy: 0.5066 - val_loss: 1.2465 - val_accuracy: 0.5226\n",
      "Epoch 6/50\n",
      "448/448 [==============================] - 140s 312ms/step - loss: 1.2391 - accuracy: 0.5300 - val_loss: 1.1793 - val_accuracy: 0.5442\n",
      "Epoch 7/50\n",
      "448/448 [==============================] - 141s 315ms/step - loss: 1.1949 - accuracy: 0.5481 - val_loss: 1.2228 - val_accuracy: 0.5333\n",
      "Epoch 8/50\n",
      "448/448 [==============================] - 140s 312ms/step - loss: 1.1465 - accuracy: 0.5646 - val_loss: 1.1171 - val_accuracy: 0.5823\n",
      "Epoch 9/50\n",
      "448/448 [==============================] - 141s 314ms/step - loss: 1.1102 - accuracy: 0.5810 - val_loss: 1.1314 - val_accuracy: 0.5717\n",
      "Epoch 10/50\n",
      "448/448 [==============================] - 142s 317ms/step - loss: 1.0579 - accuracy: 0.6032 - val_loss: 1.1125 - val_accuracy: 0.5843\n",
      "Epoch 11/50\n",
      "448/448 [==============================] - 141s 315ms/step - loss: 1.0144 - accuracy: 0.6169 - val_loss: 1.1338 - val_accuracy: 0.5672\n",
      "Epoch 12/50\n",
      "448/448 [==============================] - 142s 318ms/step - loss: 0.9795 - accuracy: 0.6310 - val_loss: 1.1469 - val_accuracy: 0.5746\n",
      "Epoch 13/50\n",
      "448/448 [==============================] - 144s 321ms/step - loss: 0.9335 - accuracy: 0.6521 - val_loss: 1.1070 - val_accuracy: 0.5901\n",
      "Epoch 14/50\n",
      "448/448 [==============================] - 144s 321ms/step - loss: 0.8951 - accuracy: 0.6657 - val_loss: 1.0947 - val_accuracy: 0.5911\n",
      "Epoch 15/50\n",
      "448/448 [==============================] - 149s 333ms/step - loss: 0.8576 - accuracy: 0.6773 - val_loss: 1.1004 - val_accuracy: 0.5929\n",
      "Epoch 16/50\n",
      "448/448 [==============================] - 153s 343ms/step - loss: 0.8119 - accuracy: 0.6987 - val_loss: 1.1457 - val_accuracy: 0.5787\n",
      "Epoch 17/50\n",
      "448/448 [==============================] - 157s 349ms/step - loss: 0.7841 - accuracy: 0.7100 - val_loss: 1.1392 - val_accuracy: 0.5910\n",
      "Epoch 18/50\n",
      "448/448 [==============================] - 157s 351ms/step - loss: 0.7471 - accuracy: 0.7209 - val_loss: 1.0793 - val_accuracy: 0.6062\n",
      "Epoch 19/50\n",
      "448/448 [==============================] - 134s 300ms/step - loss: 0.7183 - accuracy: 0.7350 - val_loss: 1.0596 - val_accuracy: 0.6099\n",
      "Epoch 20/50\n",
      "448/448 [==============================] - 122s 273ms/step - loss: 0.6844 - accuracy: 0.7464 - val_loss: 1.0907 - val_accuracy: 0.6148\n",
      "Epoch 21/50\n",
      "448/448 [==============================] - 121s 271ms/step - loss: 0.6612 - accuracy: 0.7587 - val_loss: 1.1050 - val_accuracy: 0.6127\n",
      "Epoch 22/50\n",
      "448/448 [==============================] - 123s 275ms/step - loss: 0.6379 - accuracy: 0.7648 - val_loss: 1.1229 - val_accuracy: 0.5979\n",
      "Epoch 23/50\n",
      "448/448 [==============================] - 124s 278ms/step - loss: 0.6260 - accuracy: 0.7717 - val_loss: 1.1106 - val_accuracy: 0.6136\n",
      "Epoch 24/50\n",
      "448/448 [==============================] - 124s 277ms/step - loss: 0.5935 - accuracy: 0.7780 - val_loss: 1.1361 - val_accuracy: 0.6136\n",
      "Epoch 25/50\n",
      "448/448 [==============================] - 125s 278ms/step - loss: 0.5690 - accuracy: 0.7909 - val_loss: 1.1028 - val_accuracy: 0.6244\n",
      "Epoch 26/50\n",
      "448/448 [==============================] - 216s 482ms/step - loss: 0.5523 - accuracy: 0.7980 - val_loss: 1.1340 - val_accuracy: 0.6172\n",
      "Epoch 27/50\n",
      "448/448 [==============================] - 119s 265ms/step - loss: 0.5465 - accuracy: 0.8015 - val_loss: 1.0943 - val_accuracy: 0.6078\n",
      "Epoch 28/50\n",
      "448/448 [==============================] - 119s 265ms/step - loss: 0.5221 - accuracy: 0.8082 - val_loss: 1.1119 - val_accuracy: 0.6260\n",
      "Epoch 29/50\n",
      "448/448 [==============================] - 119s 266ms/step - loss: 0.5023 - accuracy: 0.8164 - val_loss: 1.1708 - val_accuracy: 0.6000\n",
      "Epoch 30/50\n",
      "448/448 [==============================] - 119s 265ms/step - loss: 0.4944 - accuracy: 0.8207 - val_loss: 1.1748 - val_accuracy: 0.6113\n",
      "Epoch 31/50\n",
      "448/448 [==============================] - 119s 265ms/step - loss: 0.4685 - accuracy: 0.8300 - val_loss: 1.1470 - val_accuracy: 0.6338\n",
      "Epoch 32/50\n",
      "448/448 [==============================] - 120s 267ms/step - loss: 0.4631 - accuracy: 0.8315 - val_loss: 1.1692 - val_accuracy: 0.6243\n",
      "Epoch 33/50\n",
      "448/448 [==============================] - 119s 265ms/step - loss: 0.4512 - accuracy: 0.8382 - val_loss: 1.1472 - val_accuracy: 0.6355\n",
      "Epoch 34/50\n",
      "448/448 [==============================] - 120s 267ms/step - loss: 0.4349 - accuracy: 0.8428 - val_loss: 1.1274 - val_accuracy: 0.6318\n",
      "Epoch 35/50\n",
      "448/448 [==============================] - 119s 265ms/step - loss: 0.4194 - accuracy: 0.8474 - val_loss: 1.1338 - val_accuracy: 0.6331\n",
      "Epoch 36/50\n",
      "448/448 [==============================] - 119s 266ms/step - loss: 0.4205 - accuracy: 0.8505 - val_loss: 1.2061 - val_accuracy: 0.6235\n",
      "Epoch 37/50\n",
      "448/448 [==============================] - 119s 266ms/step - loss: 0.4116 - accuracy: 0.8526 - val_loss: 1.1892 - val_accuracy: 0.6295\n",
      "Epoch 38/50\n",
      "448/448 [==============================] - 119s 266ms/step - loss: 0.4009 - accuracy: 0.8546 - val_loss: 1.1753 - val_accuracy: 0.6261\n",
      "Epoch 39/50\n",
      "448/448 [==============================] - 119s 266ms/step - loss: 0.3845 - accuracy: 0.8609 - val_loss: 1.2086 - val_accuracy: 0.6017\n",
      "Epoch 40/50\n",
      "448/448 [==============================] - 119s 265ms/step - loss: 0.3832 - accuracy: 0.8631 - val_loss: 1.1904 - val_accuracy: 0.6243\n",
      "Epoch 41/50\n",
      "448/448 [==============================] - 119s 266ms/step - loss: 0.3745 - accuracy: 0.8642 - val_loss: 1.2370 - val_accuracy: 0.6343\n",
      "Epoch 42/50\n",
      "448/448 [==============================] - 119s 265ms/step - loss: 0.3691 - accuracy: 0.8691 - val_loss: 1.1841 - val_accuracy: 0.6387\n",
      "Epoch 43/50\n",
      "448/448 [==============================] - 119s 265ms/step - loss: 0.3548 - accuracy: 0.8753 - val_loss: 1.2377 - val_accuracy: 0.6299\n",
      "Epoch 44/50\n",
      "448/448 [==============================] - 119s 266ms/step - loss: 0.3498 - accuracy: 0.8761 - val_loss: 1.1797 - val_accuracy: 0.6119\n",
      "Epoch 45/50\n",
      "448/448 [==============================] - 119s 266ms/step - loss: 0.3437 - accuracy: 0.8771 - val_loss: 1.2120 - val_accuracy: 0.6338\n",
      "Epoch 46/50\n",
      "448/448 [==============================] - 119s 266ms/step - loss: 0.3380 - accuracy: 0.8795 - val_loss: 1.2228 - val_accuracy: 0.6311\n",
      "Epoch 47/50\n",
      "448/448 [==============================] - 118s 264ms/step - loss: 0.3362 - accuracy: 0.8791 - val_loss: 1.2376 - val_accuracy: 0.6243\n",
      "Epoch 48/50\n",
      "448/448 [==============================] - 119s 265ms/step - loss: 0.3351 - accuracy: 0.8816 - val_loss: 1.2224 - val_accuracy: 0.6219\n",
      "Epoch 49/50\n",
      "448/448 [==============================] - 118s 264ms/step - loss: 0.3126 - accuracy: 0.8901 - val_loss: 1.2989 - val_accuracy: 0.6267\n",
      "Epoch 50/50\n",
      "448/448 [==============================] - 119s 266ms/step - loss: 0.3127 - accuracy: 0.8869 - val_loss: 1.2239 - val_accuracy: 0.6370\n"
     ]
    }
   ],
   "source": [
    "mapping=model.fit_generator(\n",
    "        train_generator,\n",
    "        steps_per_epoch=28709// 64,\n",
    "        epochs=50,\n",
    "        validation_data=validation_generator,\n",
    "        validation_steps=7178// 64)"
   ]
  },
  {
   "cell_type": "code",
   "execution_count": 16,
   "id": "a9b22653",
   "metadata": {},
   "outputs": [
    {
     "data": {
      "image/png": "[encoded data removed]",
      "text/plain": [
       "<Figure size 640x480 with 1 Axes>"
      ]
     },
     "metadata": {},
     "output_type": "display_data"
    }
   ],
   "source": [
    "import matplotlib.pyplot as plt\n",
    "plt.plot(mapping.history['accuracy'],color='red',label='train')\n",
    "plt.plot(mapping.history['val_accuracy'],color='blue',label='validation')\n",
    "plt.legend()\n",
    "plt.show()"
   ]
  },
  {
   "cell_type": "code",
   "execution_count": 17,
   "id": "54cacfea",
   "metadata": {},
   "outputs": [],
   "source": [
    "model_json=model.to_json()\n",
    "with open(\"model.json\",\"w\") as json_file:\n",
    "    json_file.write(model_json)"
   ]
  },
  {
   "cell_type": "code",
   "execution_count": 18,
   "id": "006d1648",
   "metadata": {},
   "outputs": [],
   "source": [
    "model.save_weights(\"model.h5\")"
   ]
  },
  {
   "cell_type": "code",
   "execution_count": null,
   "id": "5d2cac06",
   "metadata": {},
   "outputs": [],
   "source": []
  }
 ],
 "metadata": {
  "kernelspec": {
   "display_name": "Python 3 (ipykernel)",
   "language": "python",
   "name": "python3"
  },
  "language_info": {
   "codemirror_mode": {
    "name": "ipython",
    "version": 3
   },
   "file_extension": ".py",
   "mimetype": "text/x-python",
   "name": "python",
   "nbconvert_exporter": "python",
   "pygments_lexer": "ipython3",
   "version": "3.10.9"
  }
 },
 "nbformat": 4,
 "nbformat_minor": 5
}
